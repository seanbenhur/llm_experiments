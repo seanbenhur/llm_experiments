{
 "cells": [
  {
   "cell_type": "markdown",
   "metadata": {},
   "source": [
    "DSPy is a library that changes the way we do prompting, in DSPy instead of writing prompts, we can do programming and DSPy will take care of prompts. It majorly has 3 components: **Signatures, Modules and Teleprompters**"
   ]
  },
  {
   "cell_type": "markdown",
   "metadata": {},
   "source": [
    "## Install the library"
   ]
  },
  {
   "cell_type": "code",
   "execution_count": 1,
   "metadata": {},
   "outputs": [
    {
     "name": "stdout",
     "output_type": "stream",
     "text": [
      "Requirement already satisfied: datasets in /Users/sbenhu439/miniconda3/envs/genaiops/lib/python3.9/site-packages (2.14.5)\n",
      "Requirement already satisfied: dspy-ai in /Users/sbenhu439/miniconda3/envs/genaiops/lib/python3.9/site-packages (2.1.1)\n",
      "Requirement already satisfied: numpy>=1.17 in /Users/sbenhu439/miniconda3/envs/genaiops/lib/python3.9/site-packages (from datasets) (1.25.2)\n",
      "Requirement already satisfied: pyarrow>=8.0.0 in /Users/sbenhu439/miniconda3/envs/genaiops/lib/python3.9/site-packages (from datasets) (13.0.0)\n",
      "Requirement already satisfied: dill<0.3.8,>=0.3.0 in /Users/sbenhu439/miniconda3/envs/genaiops/lib/python3.9/site-packages (from datasets) (0.3.7)\n",
      "Requirement already satisfied: pandas in /Users/sbenhu439/miniconda3/envs/genaiops/lib/python3.9/site-packages (from datasets) (2.0.3)\n",
      "Requirement already satisfied: requests>=2.19.0 in /Users/sbenhu439/miniconda3/envs/genaiops/lib/python3.9/site-packages (from datasets) (2.31.0)\n",
      "Requirement already satisfied: tqdm>=4.62.1 in /Users/sbenhu439/miniconda3/envs/genaiops/lib/python3.9/site-packages (from datasets) (4.66.1)\n",
      "Requirement already satisfied: xxhash in /Users/sbenhu439/miniconda3/envs/genaiops/lib/python3.9/site-packages (from datasets) (3.3.0)\n",
      "Requirement already satisfied: multiprocess in /Users/sbenhu439/miniconda3/envs/genaiops/lib/python3.9/site-packages (from datasets) (0.70.15)\n",
      "Requirement already satisfied: fsspec[http]<2023.9.0,>=2023.1.0 in /Users/sbenhu439/miniconda3/envs/genaiops/lib/python3.9/site-packages (from datasets) (2023.6.0)\n",
      "Requirement already satisfied: aiohttp in /Users/sbenhu439/miniconda3/envs/genaiops/lib/python3.9/site-packages (from datasets) (3.8.5)\n",
      "Requirement already satisfied: huggingface-hub<1.0.0,>=0.14.0 in /Users/sbenhu439/miniconda3/envs/genaiops/lib/python3.9/site-packages (from datasets) (0.20.2)\n",
      "Requirement already satisfied: packaging in /Users/sbenhu439/miniconda3/envs/genaiops/lib/python3.9/site-packages (from datasets) (23.1)\n",
      "Requirement already satisfied: pyyaml>=5.1 in /Users/sbenhu439/miniconda3/envs/genaiops/lib/python3.9/site-packages (from datasets) (6.0.1)\n",
      "Requirement already satisfied: backoff<=2.2.1 in /Users/sbenhu439/miniconda3/envs/genaiops/lib/python3.9/site-packages (from dspy-ai) (2.2.1)\n",
      "Requirement already satisfied: joblib<=1.3.2 in /Users/sbenhu439/miniconda3/envs/genaiops/lib/python3.9/site-packages (from dspy-ai) (1.3.2)\n",
      "Requirement already satisfied: openai<=0.28.1 in /Users/sbenhu439/miniconda3/envs/genaiops/lib/python3.9/site-packages (from dspy-ai) (0.28.1)\n",
      "Requirement already satisfied: regex<=2023.10.3 in /Users/sbenhu439/miniconda3/envs/genaiops/lib/python3.9/site-packages (from dspy-ai) (2022.3.2)\n",
      "Requirement already satisfied: ujson<=5.8.0 in /Users/sbenhu439/miniconda3/envs/genaiops/lib/python3.9/site-packages (from dspy-ai) (5.8.0)\n",
      "Requirement already satisfied: optuna<=3.4.0 in /Users/sbenhu439/miniconda3/envs/genaiops/lib/python3.9/site-packages (from dspy-ai) (3.4.0)\n",
      "Requirement already satisfied: attrs>=17.3.0 in /Users/sbenhu439/miniconda3/envs/genaiops/lib/python3.9/site-packages (from aiohttp->datasets) (23.1.0)\n",
      "Requirement already satisfied: charset-normalizer<4.0,>=2.0 in /Users/sbenhu439/miniconda3/envs/genaiops/lib/python3.9/site-packages (from aiohttp->datasets) (3.2.0)\n",
      "Requirement already satisfied: multidict<7.0,>=4.5 in /Users/sbenhu439/miniconda3/envs/genaiops/lib/python3.9/site-packages (from aiohttp->datasets) (6.0.4)\n",
      "Requirement already satisfied: async-timeout<5.0,>=4.0.0a3 in /Users/sbenhu439/miniconda3/envs/genaiops/lib/python3.9/site-packages (from aiohttp->datasets) (4.0.3)\n",
      "Requirement already satisfied: yarl<2.0,>=1.0 in /Users/sbenhu439/miniconda3/envs/genaiops/lib/python3.9/site-packages (from aiohttp->datasets) (1.9.2)\n",
      "Requirement already satisfied: frozenlist>=1.1.1 in /Users/sbenhu439/miniconda3/envs/genaiops/lib/python3.9/site-packages (from aiohttp->datasets) (1.4.0)\n",
      "Requirement already satisfied: aiosignal>=1.1.2 in /Users/sbenhu439/miniconda3/envs/genaiops/lib/python3.9/site-packages (from aiohttp->datasets) (1.3.1)\n",
      "Requirement already satisfied: filelock in /Users/sbenhu439/miniconda3/envs/genaiops/lib/python3.9/site-packages (from huggingface-hub<1.0.0,>=0.14.0->datasets) (3.12.4)\n",
      "Requirement already satisfied: typing-extensions>=3.7.4.3 in /Users/sbenhu439/miniconda3/envs/genaiops/lib/python3.9/site-packages (from huggingface-hub<1.0.0,>=0.14.0->datasets) (4.7.1)\n",
      "Requirement already satisfied: alembic>=1.5.0 in /Users/sbenhu439/miniconda3/envs/genaiops/lib/python3.9/site-packages (from optuna<=3.4.0->dspy-ai) (1.13.1)\n",
      "Requirement already satisfied: colorlog in /Users/sbenhu439/miniconda3/envs/genaiops/lib/python3.9/site-packages (from optuna<=3.4.0->dspy-ai) (6.8.0)\n",
      "Requirement already satisfied: sqlalchemy>=1.3.0 in /Users/sbenhu439/miniconda3/envs/genaiops/lib/python3.9/site-packages (from optuna<=3.4.0->dspy-ai) (2.0.20)\n",
      "Requirement already satisfied: python-dateutil>=2.8.2 in /Users/sbenhu439/miniconda3/envs/genaiops/lib/python3.9/site-packages (from pandas->datasets) (2.8.2)\n",
      "Requirement already satisfied: pytz>=2020.1 in /Users/sbenhu439/miniconda3/envs/genaiops/lib/python3.9/site-packages (from pandas->datasets) (2023.3)\n",
      "Requirement already satisfied: tzdata>=2022.1 in /Users/sbenhu439/miniconda3/envs/genaiops/lib/python3.9/site-packages (from pandas->datasets) (2023.3)\n",
      "Requirement already satisfied: idna<4,>=2.5 in /Users/sbenhu439/miniconda3/envs/genaiops/lib/python3.9/site-packages (from requests>=2.19.0->datasets) (3.4)\n",
      "Requirement already satisfied: urllib3<3,>=1.21.1 in /Users/sbenhu439/miniconda3/envs/genaiops/lib/python3.9/site-packages (from requests>=2.19.0->datasets) (1.26.16)\n",
      "Requirement already satisfied: certifi>=2017.4.17 in /Users/sbenhu439/miniconda3/envs/genaiops/lib/python3.9/site-packages (from requests>=2.19.0->datasets) (2023.7.22)\n",
      "Requirement already satisfied: Mako in /Users/sbenhu439/miniconda3/envs/genaiops/lib/python3.9/site-packages (from alembic>=1.5.0->optuna<=3.4.0->dspy-ai) (1.3.0)\n",
      "Requirement already satisfied: six>=1.5 in /Users/sbenhu439/miniconda3/envs/genaiops/lib/python3.9/site-packages (from python-dateutil>=2.8.2->pandas->datasets) (1.16.0)\n",
      "Requirement already satisfied: MarkupSafe>=0.9.2 in /Users/sbenhu439/miniconda3/envs/genaiops/lib/python3.9/site-packages (from Mako->alembic>=1.5.0->optuna<=3.4.0->dspy-ai) (2.1.3)\n"
     ]
    }
   ],
   "source": [
    "!pip3 install datasets dspy-ai"
   ]
  },
  {
   "cell_type": "markdown",
   "metadata": {},
   "source": [
    "In this notebook, we will see an example of using DSPy for the task of Text2SQL, we will see how DSPy saves our time in writing handcrafted prompts"
   ]
  },
  {
   "cell_type": "code",
   "execution_count": 2,
   "metadata": {},
   "outputs": [],
   "source": [
    "#import necessary libraries\n",
    "import dspy\n",
    "import os \n",
    "import pandas as pd\n",
    "from datasets import load_dataset\n",
    "from dspy.teleprompt import *\n",
    "\n",
    "turbo = dspy.OpenAI(\n",
    "    api_key=os.environ[\"OPENAI_API_KEY\"],\n",
    "    model_type=\"chat\"\n",
    ")\n",
    "\n",
    "#set the language model\n",
    "dspy.configure(lm=turbo)"
   ]
  },
  {
   "cell_type": "code",
   "execution_count": 27,
   "metadata": {},
   "outputs": [],
   "source": [
    "sample_question = \"\"\"question : How much money has Candidate Dennis Kucinich spent? \n",
    " Table Headers : Candidate,Money Raised, 3Q,Loans Received, 3Q,Money Spent, 3Q,Total Receipts,Cash On Hand,After Debt \n",
    " SQL query : \"\"\""
   ]
  },
  {
   "cell_type": "markdown",
   "metadata": {},
   "source": [
    "DSPy's fundamental module is Signature <br> <br>\n",
    "1.A Signature consists of a simple description of the task(this will be later used to create prompt internally by DSPy). <br>2. A description of one or more Input field and a description of one or more output fields"
   ]
  },
  {
   "cell_type": "code",
   "execution_count": 28,
   "metadata": {},
   "outputs": [],
   "source": [
    "class BasicText2SQL(dspy.Signature):\n",
    "    \"\"\"Convert the given question along with the table headers to SQL query\"\"\"\n",
    "    question = dspy.InputField(desc=\"question with the table headers\")\n",
    "    answer = dspy.OutputField(desc=\"SQL query\")\n",
    "\n",
    "#define the predictor\n",
    "query_generator = dspy.Predict(BasicText2SQL)\n",
    "query = query_generator(question=sample_question)"
   ]
  },
  {
   "cell_type": "code",
   "execution_count": 29,
   "metadata": {},
   "outputs": [
    {
     "name": "stdout",
     "output_type": "stream",
     "text": [
      "SELECT \"Money Spent, 3Q\" FROM table_name WHERE Candidate = 'Dennis Kucinich'\n"
     ]
    }
   ],
   "source": [
    "print(query.answer)"
   ]
  },
  {
   "cell_type": "markdown",
   "metadata": {},
   "source": [
    "We can notice how we got the query with minimal prompt writing. Let's use some data and see how we can increase the efficieny"
   ]
  },
  {
   "cell_type": "code",
   "execution_count": 3,
   "metadata": {},
   "outputs": [],
   "source": [
    "#load the wikkisql data\n",
    "wikisql_data = load_dataset(\"wikisql\")"
   ]
  },
  {
   "cell_type": "code",
   "execution_count": 4,
   "metadata": {},
   "outputs": [],
   "source": [
    "def fetch_table_context(table):\n",
    "    \"\"\"\n",
    "    Fetch the column names\n",
    "    \"\"\"\n",
    "    header = [f\"{header}\" for header in table['header']]\n",
    "    return \",\".join(header)\n",
    "\n",
    "\n",
    "def preprocess_function(examples):\n",
    "    \"\"\"\n",
    "    Fetches the questions\n",
    "    \"\"\"\n",
    "    text_column = \"question\"\n",
    "    inputs = [f\"{text_column} : {x} \\n Table Headers : {fetch_table_context(t)} \\n SQL query : \" for x,t in zip(examples[text_column],examples['table'])] \n",
    "    examples['question'] = inputs\n",
    "    examples['answer'] = examples['sql']\n",
    "    return examples"
   ]
  },
  {
   "cell_type": "code",
   "execution_count": 5,
   "metadata": {},
   "outputs": [
    {
     "name": "stderr",
     "output_type": "stream",
     "text": [
      "Processing the Dataset: 100%|██████████| 56355/56355 [00:06<00:00, 8551.63 examples/s]\n"
     ]
    }
   ],
   "source": [
    "train_processed_datasets = wikisql_data['train'].map(\n",
    "    preprocess_function,\n",
    "    batched=True,\n",
    "    num_proc=1,\n",
    "    load_from_cache_file=False,\n",
    "    desc=\"Processing the Dataset\",\n",
    ")"
   ]
  },
  {
   "cell_type": "code",
   "execution_count": 6,
   "metadata": {},
   "outputs": [],
   "source": [
    "wikisql_train_df = train_processed_datasets.to_pandas()\n",
    "#select 1000 for train, 500 for dev \n",
    "wikisql_train = wikisql_train_df.sample(1000)\n",
    "wikisql_dev = wikisql_train_df.sample(500)"
   ]
  },
  {
   "cell_type": "code",
   "execution_count": 7,
   "metadata": {},
   "outputs": [
    {
     "data": {
      "text/html": [
       "<div>\n",
       "<style scoped>\n",
       "    .dataframe tbody tr th:only-of-type {\n",
       "        vertical-align: middle;\n",
       "    }\n",
       "\n",
       "    .dataframe tbody tr th {\n",
       "        vertical-align: top;\n",
       "    }\n",
       "\n",
       "    .dataframe thead th {\n",
       "        text-align: right;\n",
       "    }\n",
       "</style>\n",
       "<table border=\"1\" class=\"dataframe\">\n",
       "  <thead>\n",
       "    <tr style=\"text-align: right;\">\n",
       "      <th></th>\n",
       "      <th>phase</th>\n",
       "      <th>question</th>\n",
       "      <th>table</th>\n",
       "      <th>sql</th>\n",
       "      <th>answer</th>\n",
       "    </tr>\n",
       "  </thead>\n",
       "  <tbody>\n",
       "    <tr>\n",
       "      <th>33674</th>\n",
       "      <td>2</td>\n",
       "      <td>question : What is the elista with 1 played an...</td>\n",
       "      <td>{'header': ['Player', 'Qual.', 'Baku', 'Sochi'...</td>\n",
       "      <td>{'human_readable': 'SELECT Elista FROM table W...</td>\n",
       "      <td>{'agg': 0, 'conds': {'column_index': [8, 2], '...</td>\n",
       "    </tr>\n",
       "    <tr>\n",
       "      <th>1454</th>\n",
       "      <td>1</td>\n",
       "      <td>question : Who did the high points of game 5? ...</td>\n",
       "      <td>{'header': ['Game', 'Date', 'Team', 'Score', '...</td>\n",
       "      <td>{'human_readable': 'SELECT High points FROM ta...</td>\n",
       "      <td>{'agg': 0, 'conds': {'column_index': [0], 'con...</td>\n",
       "    </tr>\n",
       "    <tr>\n",
       "      <th>15050</th>\n",
       "      <td>1</td>\n",
       "      <td>question : What is the date of the finale wher...</td>\n",
       "      <td>{'header': ['Series', 'Premiere', 'Finale', 'R...</td>\n",
       "      <td>{'human_readable': 'SELECT Finale FROM table W...</td>\n",
       "      <td>{'agg': 0, 'conds': {'column_index': [3], 'con...</td>\n",
       "    </tr>\n",
       "    <tr>\n",
       "      <th>19253</th>\n",
       "      <td>2</td>\n",
       "      <td>question : What score has nashville predators ...</td>\n",
       "      <td>{'header': ['Game', 'December', 'Opponent', 'S...</td>\n",
       "      <td>{'human_readable': 'SELECT Score FROM table WH...</td>\n",
       "      <td>{'agg': 0, 'conds': {'column_index': [2], 'con...</td>\n",
       "    </tr>\n",
       "    <tr>\n",
       "      <th>39550</th>\n",
       "      <td>2</td>\n",
       "      <td>question : I want the constellation for declin...</td>\n",
       "      <td>{'header': ['NGC number', 'Object type', 'Cons...</td>\n",
       "      <td>{'human_readable': 'SELECT Constellation FROM ...</td>\n",
       "      <td>{'agg': 0, 'conds': {'column_index': [4, 3], '...</td>\n",
       "    </tr>\n",
       "    <tr>\n",
       "      <th>...</th>\n",
       "      <td>...</td>\n",
       "      <td>...</td>\n",
       "      <td>...</td>\n",
       "      <td>...</td>\n",
       "      <td>...</td>\n",
       "    </tr>\n",
       "    <tr>\n",
       "      <th>729</th>\n",
       "      <td>1</td>\n",
       "      <td>question : On which episode did actress Sela W...</td>\n",
       "      <td>{'header': ['Character', 'Portrayed by', 'Firs...</td>\n",
       "      <td>{'human_readable': 'SELECT Last appearance FRO...</td>\n",
       "      <td>{'agg': 0, 'conds': {'column_index': [1], 'con...</td>\n",
       "    </tr>\n",
       "    <tr>\n",
       "      <th>35759</th>\n",
       "      <td>2</td>\n",
       "      <td>question : What was the date when the away tea...</td>\n",
       "      <td>{'header': ['Home team', 'Home team score', 'A...</td>\n",
       "      <td>{'human_readable': 'SELECT Date FROM table WHE...</td>\n",
       "      <td>{'agg': 0, 'conds': {'column_index': [2], 'con...</td>\n",
       "    </tr>\n",
       "    <tr>\n",
       "      <th>31992</th>\n",
       "      <td>2</td>\n",
       "      <td>question : What is the Date of the match with ...</td>\n",
       "      <td>{'header': ['Date', 'Tournament', 'Surface', '...</td>\n",
       "      <td>{'human_readable': 'SELECT Date FROM table WHE...</td>\n",
       "      <td>{'agg': 0, 'conds': {'column_index': [3], 'con...</td>\n",
       "    </tr>\n",
       "    <tr>\n",
       "      <th>37367</th>\n",
       "      <td>2</td>\n",
       "      <td>question : What is the density of San Sebastiá...</td>\n",
       "      <td>{'header': ['City district', 'Area km²', 'Popu...</td>\n",
       "      <td>{'human_readable': 'SELECT Density (hab/km²) F...</td>\n",
       "      <td>{'agg': 0, 'conds': {'column_index': [0], 'con...</td>\n",
       "    </tr>\n",
       "    <tr>\n",
       "      <th>55810</th>\n",
       "      <td>2</td>\n",
       "      <td>question : What club does the stadium stc krym...</td>\n",
       "      <td>{'header': ['Rank', 'Stadium', 'Capacity', 'Cl...</td>\n",
       "      <td>{'human_readable': 'SELECT Club FROM table WHE...</td>\n",
       "      <td>{'agg': 0, 'conds': {'column_index': [1], 'con...</td>\n",
       "    </tr>\n",
       "  </tbody>\n",
       "</table>\n",
       "<p>1000 rows × 5 columns</p>\n",
       "</div>"
      ],
      "text/plain": [
       "       phase                                           question  \\\n",
       "33674      2  question : What is the elista with 1 played an...   \n",
       "1454       1  question : Who did the high points of game 5? ...   \n",
       "15050      1  question : What is the date of the finale wher...   \n",
       "19253      2  question : What score has nashville predators ...   \n",
       "39550      2  question : I want the constellation for declin...   \n",
       "...      ...                                                ...   \n",
       "729        1  question : On which episode did actress Sela W...   \n",
       "35759      2  question : What was the date when the away tea...   \n",
       "31992      2  question : What is the Date of the match with ...   \n",
       "37367      2  question : What is the density of San Sebastiá...   \n",
       "55810      2  question : What club does the stadium stc krym...   \n",
       "\n",
       "                                                   table  \\\n",
       "33674  {'header': ['Player', 'Qual.', 'Baku', 'Sochi'...   \n",
       "1454   {'header': ['Game', 'Date', 'Team', 'Score', '...   \n",
       "15050  {'header': ['Series', 'Premiere', 'Finale', 'R...   \n",
       "19253  {'header': ['Game', 'December', 'Opponent', 'S...   \n",
       "39550  {'header': ['NGC number', 'Object type', 'Cons...   \n",
       "...                                                  ...   \n",
       "729    {'header': ['Character', 'Portrayed by', 'Firs...   \n",
       "35759  {'header': ['Home team', 'Home team score', 'A...   \n",
       "31992  {'header': ['Date', 'Tournament', 'Surface', '...   \n",
       "37367  {'header': ['City district', 'Area km²', 'Popu...   \n",
       "55810  {'header': ['Rank', 'Stadium', 'Capacity', 'Cl...   \n",
       "\n",
       "                                                     sql  \\\n",
       "33674  {'human_readable': 'SELECT Elista FROM table W...   \n",
       "1454   {'human_readable': 'SELECT High points FROM ta...   \n",
       "15050  {'human_readable': 'SELECT Finale FROM table W...   \n",
       "19253  {'human_readable': 'SELECT Score FROM table WH...   \n",
       "39550  {'human_readable': 'SELECT Constellation FROM ...   \n",
       "...                                                  ...   \n",
       "729    {'human_readable': 'SELECT Last appearance FRO...   \n",
       "35759  {'human_readable': 'SELECT Date FROM table WHE...   \n",
       "31992  {'human_readable': 'SELECT Date FROM table WHE...   \n",
       "37367  {'human_readable': 'SELECT Density (hab/km²) F...   \n",
       "55810  {'human_readable': 'SELECT Club FROM table WHE...   \n",
       "\n",
       "                                                  answer  \n",
       "33674  {'agg': 0, 'conds': {'column_index': [8, 2], '...  \n",
       "1454   {'agg': 0, 'conds': {'column_index': [0], 'con...  \n",
       "15050  {'agg': 0, 'conds': {'column_index': [3], 'con...  \n",
       "19253  {'agg': 0, 'conds': {'column_index': [2], 'con...  \n",
       "39550  {'agg': 0, 'conds': {'column_index': [4, 3], '...  \n",
       "...                                                  ...  \n",
       "729    {'agg': 0, 'conds': {'column_index': [1], 'con...  \n",
       "35759  {'agg': 0, 'conds': {'column_index': [2], 'con...  \n",
       "31992  {'agg': 0, 'conds': {'column_index': [3], 'con...  \n",
       "37367  {'agg': 0, 'conds': {'column_index': [0], 'con...  \n",
       "55810  {'agg': 0, 'conds': {'column_index': [1], 'con...  \n",
       "\n",
       "[1000 rows x 5 columns]"
      ]
     },
     "execution_count": 7,
     "metadata": {},
     "output_type": "execute_result"
    }
   ],
   "source": [
    "wikisql_train"
   ]
  },
  {
   "cell_type": "code",
   "execution_count": 8,
   "metadata": {},
   "outputs": [],
   "source": [
    "wikisql_train['answer'] = wikisql_train['answer'].map(lambda x: x['human_readable'])\n",
    "wikisql_dev['answer'] = wikisql_dev['answer'].map(lambda x: x['human_readable'])"
   ]
  },
  {
   "cell_type": "code",
   "execution_count": 10,
   "metadata": {},
   "outputs": [],
   "source": [
    "del wikisql_train['sql'] \n",
    "del wikisql_train['table']\n",
    "del wikisql_train['phase']\n",
    "\n",
    "del wikisql_dev['sql'] \n",
    "del wikisql_dev['table']\n",
    "del wikisql_dev['phase']"
   ]
  },
  {
   "cell_type": "code",
   "execution_count": 11,
   "metadata": {},
   "outputs": [],
   "source": [
    "train_df_records  = wikisql_train.to_dict('records')\n",
    "test_df_records  = wikisql_dev.to_dict('records')\n",
    "\n",
    "\n",
    "# Create dataset\n",
    "train_dataset = [dspy.Example(x).with_inputs('question') for x in train_df_records]\n",
    "test_dataset = [dspy.Example(x).with_inputs('question') for x in test_df_records]\n"
   ]
  },
  {
   "cell_type": "markdown",
   "metadata": {},
   "source": [
    "There are multiple techniques in Prompting such as ChainOfThought, ReACT, Tree of Thoughts, etc.. so if I want to implement those in DSPy, should I write all the complete prompts?, No. DSPy has methods integrating those prompt techniques, we can directly use that"
   ]
  },
  {
   "cell_type": "code",
   "execution_count": 32,
   "metadata": {},
   "outputs": [],
   "source": [
    "generate_query_with_cot = dspy.ChainOfThought(BasicText2SQL)\n",
    "cot_query = generate_query_with_cot(question=test_dataset[0].question)"
   ]
  },
  {
   "cell_type": "code",
   "execution_count": 33,
   "metadata": {},
   "outputs": [
    {
     "data": {
      "text/plain": [
       "Prediction(\n",
       "    rationale='produce the answer. We need to find the row for Candidate Dennis Kucinich and retrieve the value in the \"Money Spent, 3Q\" column.',\n",
       "    answer='SQL query: SELECT \"Money Spent, 3Q\" FROM table_name WHERE Candidate = \\'Dennis Kucinich\\''\n",
       ")"
      ]
     },
     "execution_count": 33,
     "metadata": {},
     "output_type": "execute_result"
    }
   ],
   "source": [
    "cot_query"
   ]
  },
  {
   "cell_type": "code",
   "execution_count": 34,
   "metadata": {},
   "outputs": [
    {
     "data": {
      "text/plain": [
       "'SELECT Money Spent, 3Q FROM table WHERE Candidate = dennis kucinich'"
      ]
     },
     "execution_count": 34,
     "metadata": {},
     "output_type": "execute_result"
    }
   ],
   "source": [
    "test_dataset[0].answer"
   ]
  },
  {
   "cell_type": "markdown",
   "metadata": {},
   "source": [
    "We can check the prompt by here"
   ]
  },
  {
   "cell_type": "code",
   "execution_count": 35,
   "metadata": {},
   "outputs": [
    {
     "name": "stdout",
     "output_type": "stream",
     "text": [
      "\n",
      "\n",
      "\n",
      "\n",
      "Convert the given question along with the table headers to SQL query\n",
      "\n",
      "---\n",
      "\n",
      "Follow the following format.\n",
      "\n",
      "Question: question with the table headers\n",
      "Reasoning: Let's think step by step in order to ${produce the answer}. We ...\n",
      "Answer: SQL query\n",
      "\n",
      "---\n",
      "\n",
      "Question: question : How much money has Candidate Dennis Kucinich spent? Table Headers : Candidate,Money Raised, 3Q,Loans Received, 3Q,Money Spent, 3Q,Total Receipts,Cash On Hand,After Debt SQL query :\n",
      "Reasoning: Let's think step by step in order to\u001b[32m produce the answer. We need to find the row for Candidate Dennis Kucinich and retrieve the value in the \"Money Spent, 3Q\" column.\n",
      "Answer: SQL query: SELECT \"Money Spent, 3Q\" FROM table_name WHERE Candidate = 'Dennis Kucinich'\u001b[0m\n",
      "\n",
      "\n",
      "\n"
     ]
    }
   ],
   "source": [
    "turbo.inspect_history()"
   ]
  },
  {
   "cell_type": "markdown",
   "metadata": {},
   "source": [
    "## Module"
   ]
  },
  {
   "cell_type": "markdown",
   "metadata": {},
   "source": [
    "Modules are another fundamental building blocks of DSPy, Modules helps us to enable many features of DSPy such as teleprompters, also modules helps us to use the prompts and classes which will further increases the verbosity and reusability"
   ]
  },
  {
   "cell_type": "code",
   "execution_count": 21,
   "metadata": {},
   "outputs": [],
   "source": [
    "class CotText2SQLPipeline(dspy.Module):\n",
    "    def __init__(self,predict_mode):\n",
    "        self.predict_mode = predict_mode\n",
    "        self.query_generator = dspy.Predict(BasicText2SQL)\n",
    "        self.generate_query_with_cot = dspy.ChainOfThought(BasicText2SQL)\n",
    "\n",
    "    def forward(self, question):\n",
    "        if self.predict_mode == \"predict\":\n",
    "            return self.query_generator(question=question)\n",
    "        else:\n",
    "            return self.generate_query_with_cot(question=question)"
   ]
  },
  {
   "cell_type": "code",
   "execution_count": 22,
   "metadata": {},
   "outputs": [
    {
     "data": {
      "text/plain": [
       "Prediction(\n",
       "    answer='SELECT SUM(Gold) AS Total_Gold_Medals\\nFROM table_name\\nWHERE Rank = 2 AND Silver < 2'\n",
       ")"
      ]
     },
     "execution_count": 22,
     "metadata": {},
     "output_type": "execute_result"
    }
   ],
   "source": [
    "cot = CotText2SQLPipeline(predict_mode=\"predict\")\n",
    "\n",
    "cot(question=test_dataset[2].question)"
   ]
  },
  {
   "cell_type": "markdown",
   "metadata": {},
   "source": [
    "Let's load a metric which we'll use later"
   ]
  },
  {
   "cell_type": "code",
   "execution_count": 40,
   "metadata": {},
   "outputs": [],
   "source": [
    "exact_match_metric = dspy.evaluate.answer_exact_match"
   ]
  },
  {
   "cell_type": "code",
   "execution_count": 23,
   "metadata": {},
   "outputs": [],
   "source": [
    "train_dataset_sample = train_dataset[:20]"
   ]
  },
  {
   "cell_type": "markdown",
   "metadata": {},
   "source": [
    "## TelePrompters\n",
    "\n",
    "Teleprompters perform optimization to improve the prompt which in turn improves the perfomance of the module. <br>\n",
    "\n",
    "### LabeledFewShot TelePrompt\n",
    "LabeledFewShot is the most vanilla Teleprompt which takes training data as an imput and it add a subset in the LLM's demo attribute which essentially means it adds few shot examples to the LLM"
   ]
  },
  {
   "cell_type": "code",
   "execution_count": 43,
   "metadata": {},
   "outputs": [],
   "source": [
    "from dspy.teleprompt import LabeledFewShot\n",
    "\n",
    "teleprompter = LabeledFewShot()\n",
    "\n",
    "compiled_prompt_opt = teleprompter.compile(cot, trainset=train_dataset_sample)"
   ]
  },
  {
   "cell_type": "code",
   "execution_count": 44,
   "metadata": {},
   "outputs": [
    {
     "data": {
      "text/plain": [
       "Prediction(\n",
       "    answer='SELECT Money Spent, 3Q FROM table WHERE Candidate = Dennis Kucinich'\n",
       ")"
      ]
     },
     "execution_count": 44,
     "metadata": {},
     "output_type": "execute_result"
    }
   ],
   "source": [
    "compiled_prompt_opt(question=test_dataset[0].question)"
   ]
  },
  {
   "cell_type": "code",
   "execution_count": 46,
   "metadata": {},
   "outputs": [
    {
     "name": "stdout",
     "output_type": "stream",
     "text": [
      "Question :  question : How much money has Candidate Dennis Kucinich spent? \n",
      " Table Headers : Candidate,Money Raised, 3Q,Loans Received, 3Q,Money Spent, 3Q,Total Receipts,Cash On Hand,After Debt \n",
      " SQL query : \n",
      "Actual Answer :  SELECT Money Spent, 3Q FROM table WHERE Candidate = dennis kucinich\n",
      "Predicted Answer :  Prediction(\n",
      "    answer='SELECT Money Spent, 3Q FROM table WHERE Candidate = Dennis Kucinich'\n",
      ")\n"
     ]
    }
   ],
   "source": [
    "print(\"Question : \",test_dataset[0].question)\n",
    "print(\"Actual Answer : \",test_dataset[0].answer)\n",
    "print(\"Predicted Answer : \",compiled_prompt_opt(question=test_dataset[0].question))"
   ]
  },
  {
   "cell_type": "markdown",
   "metadata": {},
   "source": [
    "There are also other TelePrompters for which you can refer the doc [here](https://github.com/stanfordnlp/dspy/blob/main/docs/teleprompters.md)"
   ]
  },
  {
   "cell_type": "code",
   "execution_count": 47,
   "metadata": {},
   "outputs": [],
   "source": [
    "#save the teleprompter\n",
    "compiled_prompt_opt.save(\"teleprompter.json\")\n",
    "#load the teleprompter using module object\n",
    "cot.load(\"teleprompter.json\")"
   ]
  },
  {
   "cell_type": "code",
   "execution_count": null,
   "metadata": {},
   "outputs": [],
   "source": []
  }
 ],
 "metadata": {
  "kernelspec": {
   "display_name": "genaiops",
   "language": "python",
   "name": "python3"
  },
  "language_info": {
   "codemirror_mode": {
    "name": "ipython",
    "version": 3
   },
   "file_extension": ".py",
   "mimetype": "text/x-python",
   "name": "python",
   "nbconvert_exporter": "python",
   "pygments_lexer": "ipython3",
   "version": "3.9.17"
  }
 },
 "nbformat": 4,
 "nbformat_minor": 2
}
